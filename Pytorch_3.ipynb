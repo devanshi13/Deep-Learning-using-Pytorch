{
  "nbformat": 4,
  "nbformat_minor": 0,
  "metadata": {
    "colab": {
      "name": "Pytorch-3.ipynb",
      "provenance": []
    },
    "kernelspec": {
      "name": "python3",
      "display_name": "Python 3"
    },
    "language_info": {
      "name": "python"
    }
  },
  "cells": [
    {
      "cell_type": "code",
      "metadata": {
        "id": "DAwXcLGFhM_Y"
      },
      "source": [
        "import torch\n",
        "from sklearn.datasets import make_classification"
      ],
      "execution_count": 2,
      "outputs": []
    },
    {
      "cell_type": "code",
      "metadata": {
        "id": "oNAPpIEdO0jA"
      },
      "source": [
        "class CustomDataset:\n",
        "  \n",
        "  def __init__(self, data, targets):\n",
        "    self.data = data\n",
        "    self.targets = targets\n",
        "  \n",
        "  def __len__(self):\n",
        "    return len(self.data)\n",
        "\n",
        "  # Takes index of samples and returns dictionary of tensors\n",
        "  def __getitem__(self, idx):\n",
        "    current_sample = self.data[idx, :]\n",
        "    current_target = self.targets[idx]\n",
        "    return {\n",
        "        \"sample\": torch.tensor(current_sample, dtype=torch.float),\n",
        "        \"target\": torch.tensor(current_target, dtype=torch.long)\n",
        "    }"
      ],
      "execution_count": 9,
      "outputs": []
    },
    {
      "cell_type": "code",
      "metadata": {
        "id": "SWCSE6gTha7P"
      },
      "source": [
        "data, targets = make_classification(n_samples=1000)"
      ],
      "execution_count": 10,
      "outputs": []
    },
    {
      "cell_type": "code",
      "metadata": {
        "colab": {
          "base_uri": "https://localhost:8080/"
        },
        "id": "y-3UiYfPQoAe",
        "outputId": "9c9f1192-80c7-4d45-ad35-742904c0ddcf"
      },
      "source": [
        "data.shape"
      ],
      "execution_count": 11,
      "outputs": [
        {
          "output_type": "execute_result",
          "data": {
            "text/plain": [
              "(1000, 20)"
            ]
          },
          "metadata": {
            "tags": []
          },
          "execution_count": 11
        }
      ]
    },
    {
      "cell_type": "code",
      "metadata": {
        "colab": {
          "base_uri": "https://localhost:8080/"
        },
        "id": "VtHOd-MDQpag",
        "outputId": "5aa912a1-95a6-4f16-db39-935cff7028e6"
      },
      "source": [
        "targets.shape"
      ],
      "execution_count": 12,
      "outputs": [
        {
          "output_type": "execute_result",
          "data": {
            "text/plain": [
              "(1000,)"
            ]
          },
          "metadata": {
            "tags": []
          },
          "execution_count": 12
        }
      ]
    },
    {
      "cell_type": "code",
      "metadata": {
        "colab": {
          "base_uri": "https://localhost:8080/"
        },
        "id": "6yuek1j4QqWi",
        "outputId": "f3c1388d-8012-4d2e-dd2c-e7da0742e871"
      },
      "source": [
        "custom_dataset = CustomDataset(data=data, targets=targets)\n",
        "print(len(custom_dataset))"
      ],
      "execution_count": 13,
      "outputs": [
        {
          "output_type": "stream",
          "text": [
            "1000\n"
          ],
          "name": "stdout"
        }
      ]
    },
    {
      "cell_type": "code",
      "metadata": {
        "colab": {
          "base_uri": "https://localhost:8080/"
        },
        "id": "OJ-ujC7rQ0Dr",
        "outputId": "ad592823-4025-4619-ea23-d5762942dd8e"
      },
      "source": [
        "custom_dataset[0][\"sample\"]"
      ],
      "execution_count": 15,
      "outputs": [
        {
          "output_type": "execute_result",
          "data": {
            "text/plain": [
              "tensor([-0.5481, -0.7521, -0.5361, -0.0924,  1.3636,  0.9528,  0.0671, -0.4994,\n",
              "        -0.7901,  0.6840, -0.5215, -1.8685, -1.3382,  1.1810, -0.1805, -0.7211,\n",
              "         1.0863,  0.2444,  0.1408,  0.8803])"
            ]
          },
          "metadata": {
            "tags": []
          },
          "execution_count": 15
        }
      ]
    },
    {
      "cell_type": "code",
      "metadata": {
        "colab": {
          "base_uri": "https://localhost:8080/"
        },
        "id": "eQcpYYSsQ_H6",
        "outputId": "197eedf5-38e8-4570-ab21-437d50ab9fcd"
      },
      "source": [
        "custom_dataset[0][\"target\"]"
      ],
      "execution_count": 16,
      "outputs": [
        {
          "output_type": "execute_result",
          "data": {
            "text/plain": [
              "tensor(0)"
            ]
          },
          "metadata": {
            "tags": []
          },
          "execution_count": 16
        }
      ]
    },
    {
      "cell_type": "code",
      "metadata": {
        "colab": {
          "base_uri": "https://localhost:8080/"
        },
        "id": "uMueYX_IRNdc",
        "outputId": "fe2c5c0a-0e2c-4afc-e571-d617bfa091da"
      },
      "source": [
        "custom_dataset[800]"
      ],
      "execution_count": 17,
      "outputs": [
        {
          "output_type": "execute_result",
          "data": {
            "text/plain": [
              "{'sample': tensor([ 0.1121,  0.0595, -0.7370,  0.0614, -1.0444,  1.7461,  1.2589,  0.6070,\n",
              "          0.8956,  0.0944, -0.6043, -0.7683, -2.1906,  2.1858,  0.8702,  0.7011,\n",
              "         -0.1390,  0.2379, -0.4159, -0.0758]), 'target': tensor(0)}"
            ]
          },
          "metadata": {
            "tags": []
          },
          "execution_count": 17
        }
      ]
    },
    {
      "cell_type": "code",
      "metadata": {
        "id": "XFNX45f_ReFn"
      },
      "source": [
        ""
      ],
      "execution_count": null,
      "outputs": []
    }
  ]
}