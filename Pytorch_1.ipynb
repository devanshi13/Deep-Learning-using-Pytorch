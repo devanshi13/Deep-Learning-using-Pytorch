{
  "nbformat": 4,
  "nbformat_minor": 0,
  "metadata": {
    "colab": {
      "name": "Pytorch - 1.ipynb",
      "provenance": []
    },
    "kernelspec": {
      "name": "python3",
      "display_name": "Python 3"
    },
    "language_info": {
      "name": "python"
    },
    "accelerator": "GPU"
  },
  "cells": [
    {
      "cell_type": "code",
      "metadata": {
        "id": "mmMHZsy3E83a"
      },
      "source": [
        "import numpy as np\n",
        "import torch"
      ],
      "execution_count": 1,
      "outputs": []
    },
    {
      "cell_type": "markdown",
      "metadata": {
        "id": "eZgIqDKRY4q0"
      },
      "source": [
        "### **1. List vs Array vs Tensor**"
      ]
    },
    {
      "cell_type": "code",
      "metadata": {
        "colab": {
          "base_uri": "https://localhost:8080/"
        },
        "id": "rvnl2-qFFEoW",
        "outputId": "8a5a1c0d-eb54-4f0f-b902-155b58fb878f"
      },
      "source": [
        "data = [[1,2],[3,4]]\n",
        "data"
      ],
      "execution_count": 2,
      "outputs": [
        {
          "output_type": "execute_result",
          "data": {
            "text/plain": [
              "[[1, 2], [3, 4]]"
            ]
          },
          "metadata": {
            "tags": []
          },
          "execution_count": 2
        }
      ]
    },
    {
      "cell_type": "code",
      "metadata": {
        "colab": {
          "base_uri": "https://localhost:8080/"
        },
        "id": "-7gK5F8qX7vS",
        "outputId": "8414f05c-584d-4703-b6bb-1334960b12cd"
      },
      "source": [
        "type(data)"
      ],
      "execution_count": 3,
      "outputs": [
        {
          "output_type": "execute_result",
          "data": {
            "text/plain": [
              "list"
            ]
          },
          "metadata": {
            "tags": []
          },
          "execution_count": 3
        }
      ]
    },
    {
      "cell_type": "code",
      "metadata": {
        "colab": {
          "base_uri": "https://localhost:8080/"
        },
        "id": "1oPV9IfjXvVv",
        "outputId": "2bdb07c1-15d5-4ca0-dd26-3d0f0c1a3558"
      },
      "source": [
        "data = np.array(data)\n",
        "data"
      ],
      "execution_count": 4,
      "outputs": [
        {
          "output_type": "execute_result",
          "data": {
            "text/plain": [
              "array([[1, 2],\n",
              "       [3, 4]])"
            ]
          },
          "metadata": {
            "tags": []
          },
          "execution_count": 4
        }
      ]
    },
    {
      "cell_type": "code",
      "metadata": {
        "colab": {
          "base_uri": "https://localhost:8080/"
        },
        "id": "5Lnf035IX3-v",
        "outputId": "a77780cc-8c8f-4b8a-d8ad-36255399725b"
      },
      "source": [
        "type(data)"
      ],
      "execution_count": 5,
      "outputs": [
        {
          "output_type": "execute_result",
          "data": {
            "text/plain": [
              "numpy.ndarray"
            ]
          },
          "metadata": {
            "tags": []
          },
          "execution_count": 5
        }
      ]
    },
    {
      "cell_type": "markdown",
      "metadata": {
        "id": "NovskmL2ZH6c"
      },
      "source": [
        "#### **1.1 Converting Numpy Array to Tensors**"
      ]
    },
    {
      "cell_type": "code",
      "metadata": {
        "colab": {
          "base_uri": "https://localhost:8080/"
        },
        "id": "nU65t6HCYFFf",
        "outputId": "e8e7f100-96e6-421f-9107-8a488bd1e576"
      },
      "source": [
        "data = torch.tensor(data)\n",
        "data"
      ],
      "execution_count": 6,
      "outputs": [
        {
          "output_type": "execute_result",
          "data": {
            "text/plain": [
              "tensor([[1, 2],\n",
              "        [3, 4]])"
            ]
          },
          "metadata": {
            "tags": []
          },
          "execution_count": 6
        }
      ]
    },
    {
      "cell_type": "code",
      "metadata": {
        "colab": {
          "base_uri": "https://localhost:8080/"
        },
        "id": "KXGUMC2rYvSu",
        "outputId": "0eb48ed5-7f10-4bd4-8af2-a1e8757b6055"
      },
      "source": [
        "type(data)"
      ],
      "execution_count": 7,
      "outputs": [
        {
          "output_type": "execute_result",
          "data": {
            "text/plain": [
              "torch.Tensor"
            ]
          },
          "metadata": {
            "tags": []
          },
          "execution_count": 7
        }
      ]
    },
    {
      "cell_type": "markdown",
      "metadata": {
        "id": "24GmW1IGY-ez"
      },
      "source": [
        "### **2. How to initialize tensors**"
      ]
    },
    {
      "cell_type": "code",
      "metadata": {
        "colab": {
          "base_uri": "https://localhost:8080/"
        },
        "id": "vbssvcDuYww1",
        "outputId": "dd07093b-38b6-452a-fa8b-74b977d626e0"
      },
      "source": [
        "# Creating an empty tensor\n",
        "x = torch.empty(5,3)\n",
        "x"
      ],
      "execution_count": 8,
      "outputs": [
        {
          "output_type": "execute_result",
          "data": {
            "text/plain": [
              "tensor([[9.6920e+23, 3.0732e-41, 3.3631e-44],\n",
              "        [0.0000e+00,        nan, 0.0000e+00],\n",
              "        [1.1578e+27, 1.1362e+30, 7.1547e+22],\n",
              "        [4.5828e+30, 1.2121e+04, 7.1846e+22],\n",
              "        [9.2198e-39, 7.0374e+22, 0.0000e+00]])"
            ]
          },
          "metadata": {
            "tags": []
          },
          "execution_count": 8
        }
      ]
    },
    {
      "cell_type": "code",
      "metadata": {
        "colab": {
          "base_uri": "https://localhost:8080/"
        },
        "id": "ete8RaqiZWS_",
        "outputId": "bb334069-4cef-4892-f460-1ed30261406e"
      },
      "source": [
        "type(x)"
      ],
      "execution_count": 9,
      "outputs": [
        {
          "output_type": "execute_result",
          "data": {
            "text/plain": [
              "torch.Tensor"
            ]
          },
          "metadata": {
            "tags": []
          },
          "execution_count": 9
        }
      ]
    },
    {
      "cell_type": "code",
      "metadata": {
        "colab": {
          "base_uri": "https://localhost:8080/"
        },
        "id": "K_HKDlSNZXob",
        "outputId": "14508e1a-9915-4749-eff0-c3e9ebde96bc"
      },
      "source": [
        "# Creating a randomly initialized tensor\n",
        "x = torch.rand(5,3)\n",
        "x"
      ],
      "execution_count": 10,
      "outputs": [
        {
          "output_type": "execute_result",
          "data": {
            "text/plain": [
              "tensor([[0.8081, 0.8971, 0.4865],\n",
              "        [0.0604, 0.1776, 0.3862],\n",
              "        [0.8486, 0.9998, 0.5671],\n",
              "        [0.8547, 0.9353, 0.1808],\n",
              "        [0.9411, 0.5058, 0.4958]])"
            ]
          },
          "metadata": {
            "tags": []
          },
          "execution_count": 10
        }
      ]
    },
    {
      "cell_type": "code",
      "metadata": {
        "colab": {
          "base_uri": "https://localhost:8080/"
        },
        "id": "V7f_gpRcZljW",
        "outputId": "d5ef43d2-2e9f-499a-c104-4b3e8a11eca7"
      },
      "source": [
        "# Constructing tensor from data directly \n",
        "x = torch.tensor([5.5, 3])\n",
        "x"
      ],
      "execution_count": 11,
      "outputs": [
        {
          "output_type": "execute_result",
          "data": {
            "text/plain": [
              "tensor([5.5000, 3.0000])"
            ]
          },
          "metadata": {
            "tags": []
          },
          "execution_count": 11
        }
      ]
    },
    {
      "cell_type": "markdown",
      "metadata": {
        "id": "GP44XlLvZ9lt"
      },
      "source": [
        "### **3. Tensor Operations**"
      ]
    },
    {
      "cell_type": "code",
      "metadata": {
        "colab": {
          "base_uri": "https://localhost:8080/"
        },
        "id": "B-Eqc5UxZ1BK",
        "outputId": "ea4acd74-c680-4c75-805e-0aa7e4831e10"
      },
      "source": [
        "# Adding two tensors\n",
        "x = torch.rand(5,3)\n",
        "y = torch.rand(5,3)\n",
        "print(x+y)"
      ],
      "execution_count": 12,
      "outputs": [
        {
          "output_type": "stream",
          "text": [
            "tensor([[0.9094, 1.3584, 0.8794],\n",
            "        [0.9421, 0.8131, 0.5405],\n",
            "        [1.0408, 1.3321, 1.5062],\n",
            "        [0.6661, 0.4638, 1.5444],\n",
            "        [1.4272, 0.4630, 0.5839]])\n"
          ],
          "name": "stdout"
        }
      ]
    },
    {
      "cell_type": "code",
      "metadata": {
        "colab": {
          "base_uri": "https://localhost:8080/"
        },
        "id": "2nTJeNa-fDvc",
        "outputId": "d622a875-f437-4afa-dd92-b13a655884c5"
      },
      "source": [
        "x = torch.randn(4,4)\n",
        "x"
      ],
      "execution_count": 13,
      "outputs": [
        {
          "output_type": "execute_result",
          "data": {
            "text/plain": [
              "tensor([[-2.4884,  2.3911,  0.2228,  0.4022],\n",
              "        [ 0.3997,  0.7231,  0.5471, -0.5833],\n",
              "        [-0.2201, -0.6346, -0.1088, -0.3521],\n",
              "        [ 0.9786, -0.1676, -1.7527, -0.5348]])"
            ]
          },
          "metadata": {
            "tags": []
          },
          "execution_count": 13
        }
      ]
    },
    {
      "cell_type": "code",
      "metadata": {
        "id": "jYQJiS5mfmhq",
        "colab": {
          "base_uri": "https://localhost:8080/"
        },
        "outputId": "f08d30c1-86ea-4fdb-8507-115cb7235587"
      },
      "source": [
        "# Reshaping tensors\n",
        "x = torch.rand(3,4)\n",
        "x"
      ],
      "execution_count": 46,
      "outputs": [
        {
          "output_type": "execute_result",
          "data": {
            "text/plain": [
              "tensor([[0.2528, 0.1757, 0.4884, 0.0454],\n",
              "        [0.7803, 0.5354, 0.8405, 0.3409],\n",
              "        [0.7336, 0.5902, 0.8958, 0.4280]])"
            ]
          },
          "metadata": {
            "tags": []
          },
          "execution_count": 46
        }
      ]
    },
    {
      "cell_type": "code",
      "metadata": {
        "colab": {
          "base_uri": "https://localhost:8080/"
        },
        "id": "wuTuNNEVSMIq",
        "outputId": "4bbac154-77ab-4ee5-f9a0-a1e1916d0008"
      },
      "source": [
        "y = x.view(12)\n",
        "y"
      ],
      "execution_count": 48,
      "outputs": [
        {
          "output_type": "execute_result",
          "data": {
            "text/plain": [
              "tensor([0.2528, 0.1757, 0.4884, 0.0454, 0.7803, 0.5354, 0.8405, 0.3409, 0.7336,\n",
              "        0.5902, 0.8958, 0.4280])"
            ]
          },
          "metadata": {
            "tags": []
          },
          "execution_count": 48
        }
      ]
    },
    {
      "cell_type": "code",
      "metadata": {
        "colab": {
          "base_uri": "https://localhost:8080/"
        },
        "id": "ohCKqlyoSMqr",
        "outputId": "85e28e0e-3ed8-4ef4-8ac0-bbfd18b5b96d"
      },
      "source": [
        "z = x.view(2, 6)\n",
        "z"
      ],
      "execution_count": 50,
      "outputs": [
        {
          "output_type": "execute_result",
          "data": {
            "text/plain": [
              "tensor([[0.2528, 0.1757, 0.4884, 0.0454, 0.7803, 0.5354],\n",
              "        [0.8405, 0.3409, 0.7336, 0.5902, 0.8958, 0.4280]])"
            ]
          },
          "metadata": {
            "tags": []
          },
          "execution_count": 50
        }
      ]
    },
    {
      "cell_type": "markdown",
      "metadata": {
        "id": "UKf8RVXRSNSw"
      },
      "source": [
        "### **4. Tensor Attributes**"
      ]
    },
    {
      "cell_type": "code",
      "metadata": {
        "colab": {
          "base_uri": "https://localhost:8080/"
        },
        "id": "yvOPcA4LSRel",
        "outputId": "36533a44-dd77-4ec6-8100-024b30051544"
      },
      "source": [
        "# Checking Data Type\n",
        "data.dtype"
      ],
      "execution_count": 15,
      "outputs": [
        {
          "output_type": "execute_result",
          "data": {
            "text/plain": [
              "torch.int64"
            ]
          },
          "metadata": {
            "tags": []
          },
          "execution_count": 15
        }
      ]
    },
    {
      "cell_type": "code",
      "metadata": {
        "colab": {
          "base_uri": "https://localhost:8080/"
        },
        "id": "99BmcBLESVhU",
        "outputId": "0b47e2c0-bdbe-4d12-a5a0-5bf32532be27"
      },
      "source": [
        "np_array = np.random.rand(4,3)\n",
        "torch.tensor(np_array)"
      ],
      "execution_count": 16,
      "outputs": [
        {
          "output_type": "execute_result",
          "data": {
            "text/plain": [
              "tensor([[0.6597, 0.0273, 0.6696],\n",
              "        [0.0867, 0.2811, 0.6354],\n",
              "        [0.6068, 0.3029, 0.2677],\n",
              "        [0.8439, 0.0734, 0.6318]], dtype=torch.float64)"
            ]
          },
          "metadata": {
            "tags": []
          },
          "execution_count": 16
        }
      ]
    },
    {
      "cell_type": "code",
      "metadata": {
        "colab": {
          "base_uri": "https://localhost:8080/"
        },
        "id": "91SvRVo3Suwf",
        "outputId": "61dfe3dd-dcdd-4a81-977b-ef0e39bfd6da"
      },
      "source": [
        "torch.from_numpy(np_array)"
      ],
      "execution_count": 17,
      "outputs": [
        {
          "output_type": "execute_result",
          "data": {
            "text/plain": [
              "tensor([[0.6597, 0.0273, 0.6696],\n",
              "        [0.0867, 0.2811, 0.6354],\n",
              "        [0.6068, 0.3029, 0.2677],\n",
              "        [0.8439, 0.0734, 0.6318]], dtype=torch.float64)"
            ]
          },
          "metadata": {
            "tags": []
          },
          "execution_count": 17
        }
      ]
    },
    {
      "cell_type": "code",
      "metadata": {
        "colab": {
          "base_uri": "https://localhost:8080/"
        },
        "id": "QrX3LBRWSzFQ",
        "outputId": "1b28bd5f-b5ce-4010-9e63-a90f567bd2d8"
      },
      "source": [
        "# Tensor with all ones\n",
        "torch.ones(3,4)"
      ],
      "execution_count": 18,
      "outputs": [
        {
          "output_type": "execute_result",
          "data": {
            "text/plain": [
              "tensor([[1., 1., 1., 1.],\n",
              "        [1., 1., 1., 1.],\n",
              "        [1., 1., 1., 1.]])"
            ]
          },
          "metadata": {
            "tags": []
          },
          "execution_count": 18
        }
      ]
    },
    {
      "cell_type": "code",
      "metadata": {
        "colab": {
          "base_uri": "https://localhost:8080/"
        },
        "id": "H67QQU35S7ba",
        "outputId": "279865bf-3f5a-4603-965e-b6fd2afa49ed"
      },
      "source": [
        "# Tensor with all zeroes\n",
        "torch.zeros(3,4)"
      ],
      "execution_count": 19,
      "outputs": [
        {
          "output_type": "execute_result",
          "data": {
            "text/plain": [
              "tensor([[0., 0., 0., 0.],\n",
              "        [0., 0., 0., 0.],\n",
              "        [0., 0., 0., 0.]])"
            ]
          },
          "metadata": {
            "tags": []
          },
          "execution_count": 19
        }
      ]
    },
    {
      "cell_type": "code",
      "metadata": {
        "colab": {
          "base_uri": "https://localhost:8080/"
        },
        "id": "KM4CRHv_S_9q",
        "outputId": "eb79b3e4-a8dd-402f-9387-7a61d56d337a"
      },
      "source": [
        "my_tensor = torch.rand(3,4)\n",
        "my_tensor"
      ],
      "execution_count": 20,
      "outputs": [
        {
          "output_type": "execute_result",
          "data": {
            "text/plain": [
              "tensor([[0.5396, 0.1249, 0.5502, 0.7076],\n",
              "        [0.8670, 0.9282, 0.1736, 0.4721],\n",
              "        [0.7755, 0.4231, 0.2287, 0.4352]])"
            ]
          },
          "metadata": {
            "tags": []
          },
          "execution_count": 20
        }
      ]
    },
    {
      "cell_type": "code",
      "metadata": {
        "colab": {
          "base_uri": "https://localhost:8080/"
        },
        "id": "Ezfkvq27TPBk",
        "outputId": "b820c5ab-313b-41fa-f077-fa6ed2c52167"
      },
      "source": [
        "my_tensor.dtype"
      ],
      "execution_count": 21,
      "outputs": [
        {
          "output_type": "execute_result",
          "data": {
            "text/plain": [
              "torch.float32"
            ]
          },
          "metadata": {
            "tags": []
          },
          "execution_count": 21
        }
      ]
    },
    {
      "cell_type": "code",
      "metadata": {
        "colab": {
          "base_uri": "https://localhost:8080/"
        },
        "id": "qA5WAQxzTSAH",
        "outputId": "1a5ecc91-9938-4445-d357-39b6bd297b8a"
      },
      "source": [
        "# check current device of tensor\n",
        "my_tensor.device"
      ],
      "execution_count": 22,
      "outputs": [
        {
          "output_type": "execute_result",
          "data": {
            "text/plain": [
              "device(type='cpu')"
            ]
          },
          "metadata": {
            "tags": []
          },
          "execution_count": 22
        }
      ]
    },
    {
      "cell_type": "code",
      "metadata": {
        "colab": {
          "base_uri": "https://localhost:8080/"
        },
        "id": "NlfCBuECT2-P",
        "outputId": "c8bc6d0d-8d36-4ed1-bf34-ed008926776b"
      },
      "source": [
        "# bash command to check GPU details\n",
        "! nvidia-smi"
      ],
      "execution_count": 23,
      "outputs": [
        {
          "output_type": "stream",
          "text": [
            "Wed Jun 16 14:53:41 2021       \n",
            "+-----------------------------------------------------------------------------+\n",
            "| NVIDIA-SMI 465.27       Driver Version: 460.32.03    CUDA Version: 11.2     |\n",
            "|-------------------------------+----------------------+----------------------+\n",
            "| GPU  Name        Persistence-M| Bus-Id        Disp.A | Volatile Uncorr. ECC |\n",
            "| Fan  Temp  Perf  Pwr:Usage/Cap|         Memory-Usage | GPU-Util  Compute M. |\n",
            "|                               |                      |               MIG M. |\n",
            "|===============================+======================+======================|\n",
            "|   0  Tesla T4            Off  | 00000000:00:04.0 Off |                    0 |\n",
            "| N/A   50C    P8    10W /  70W |      0MiB / 15109MiB |      0%      Default |\n",
            "|                               |                      |                  N/A |\n",
            "+-------------------------------+----------------------+----------------------+\n",
            "                                                                               \n",
            "+-----------------------------------------------------------------------------+\n",
            "| Processes:                                                                  |\n",
            "|  GPU   GI   CI        PID   Type   Process name                  GPU Memory |\n",
            "|        ID   ID                                                   Usage      |\n",
            "|=============================================================================|\n",
            "|  No running processes found                                                 |\n",
            "+-----------------------------------------------------------------------------+\n"
          ],
          "name": "stdout"
        }
      ]
    },
    {
      "cell_type": "code",
      "metadata": {
        "id": "6TRBCrQSTUOm"
      },
      "source": [
        "# changing location of tensor from CPU to GPU\n",
        "my_tensor = my_tensor.to(\"cuda\")"
      ],
      "execution_count": 25,
      "outputs": []
    },
    {
      "cell_type": "code",
      "metadata": {
        "colab": {
          "base_uri": "https://localhost:8080/"
        },
        "id": "SjCF20miTid1",
        "outputId": "4003e4aa-0f81-4ae8-df43-e2e0b06ea051"
      },
      "source": [
        "# Indexing\n",
        "my_tensor[:,1:3]"
      ],
      "execution_count": 26,
      "outputs": [
        {
          "output_type": "execute_result",
          "data": {
            "text/plain": [
              "tensor([[0.1249, 0.5502],\n",
              "        [0.9282, 0.1736],\n",
              "        [0.4231, 0.2287]], device='cuda:0')"
            ]
          },
          "metadata": {
            "tags": []
          },
          "execution_count": 26
        }
      ]
    },
    {
      "cell_type": "code",
      "metadata": {
        "colab": {
          "base_uri": "https://localhost:8080/"
        },
        "id": "tVjur2SOUko3",
        "outputId": "278f029f-6856-4c13-8a1e-697e9bc590da"
      },
      "source": [
        "# Element-wise multiplication \n",
        "my_tensor.mul(my_tensor)"
      ],
      "execution_count": 27,
      "outputs": [
        {
          "output_type": "execute_result",
          "data": {
            "text/plain": [
              "tensor([[0.2912, 0.0156, 0.3028, 0.5007],\n",
              "        [0.7517, 0.8615, 0.0301, 0.2229],\n",
              "        [0.6013, 0.1790, 0.0523, 0.1894]], device='cuda:0')"
            ]
          },
          "metadata": {
            "tags": []
          },
          "execution_count": 27
        }
      ]
    },
    {
      "cell_type": "code",
      "metadata": {
        "colab": {
          "base_uri": "https://localhost:8080/"
        },
        "id": "t-XAeWOTUu3E",
        "outputId": "2ca7dfab-8a5c-442e-ad75-10dcecd735a9"
      },
      "source": [
        "# Matrix multiplication\n",
        "my_tensor.matmul(my_tensor.T)"
      ],
      "execution_count": 30,
      "outputs": [
        {
          "output_type": "execute_result",
          "data": {
            "text/plain": [
              "tensor([[1.1102, 1.0134, 0.9051],\n",
              "        [1.0134, 1.8662, 1.3101],\n",
              "        [0.9051, 1.3101, 1.0220]], device='cuda:0')"
            ]
          },
          "metadata": {
            "tags": []
          },
          "execution_count": 30
        }
      ]
    },
    {
      "cell_type": "code",
      "metadata": {
        "colab": {
          "base_uri": "https://localhost:8080/"
        },
        "id": "sstexC9aU2hr",
        "outputId": "94e7bdb3-37b1-4ed7-b9f5-be9e5b10272e"
      },
      "source": [
        "torch.matmul(my_tensor, my_tensor.T)"
      ],
      "execution_count": 31,
      "outputs": [
        {
          "output_type": "execute_result",
          "data": {
            "text/plain": [
              "tensor([[1.1102, 1.0134, 0.9051],\n",
              "        [1.0134, 1.8662, 1.3101],\n",
              "        [0.9051, 1.3101, 1.0220]], device='cuda:0')"
            ]
          },
          "metadata": {
            "tags": []
          },
          "execution_count": 31
        }
      ]
    },
    {
      "cell_type": "code",
      "metadata": {
        "colab": {
          "base_uri": "https://localhost:8080/"
        },
        "id": "uuG09JvQVHtF",
        "outputId": "6b4d1aba-bd02-4e49-b58c-b52f0801ff28"
      },
      "source": [
        "my_tensor @ my_tensor.T"
      ],
      "execution_count": 32,
      "outputs": [
        {
          "output_type": "execute_result",
          "data": {
            "text/plain": [
              "tensor([[1.1102, 1.0134, 0.9051],\n",
              "        [1.0134, 1.8662, 1.3101],\n",
              "        [0.9051, 1.3101, 1.0220]], device='cuda:0')"
            ]
          },
          "metadata": {
            "tags": []
          },
          "execution_count": 32
        }
      ]
    },
    {
      "cell_type": "code",
      "metadata": {
        "colab": {
          "base_uri": "https://localhost:8080/"
        },
        "id": "y2Y9mcnTVLCL",
        "outputId": "7d4019c5-58fc-4a92-b1cb-ab1231b9aa07"
      },
      "source": [
        "# sum row-wise\n",
        "my_tensor.sum(axis=0)"
      ],
      "execution_count": 33,
      "outputs": [
        {
          "output_type": "execute_result",
          "data": {
            "text/plain": [
              "tensor([2.1821, 1.4762, 0.9525, 1.6149], device='cuda:0')"
            ]
          },
          "metadata": {
            "tags": []
          },
          "execution_count": 33
        }
      ]
    },
    {
      "cell_type": "code",
      "metadata": {
        "colab": {
          "base_uri": "https://localhost:8080/"
        },
        "id": "wrzYudnmVOzv",
        "outputId": "48202811-63df-4690-dc34-73267e1348ed"
      },
      "source": [
        "# sum column-wise\n",
        "my_tensor.sum(axis=1)"
      ],
      "execution_count": 34,
      "outputs": [
        {
          "output_type": "execute_result",
          "data": {
            "text/plain": [
              "tensor([1.9224, 2.4408, 1.8624], device='cuda:0')"
            ]
          },
          "metadata": {
            "tags": []
          },
          "execution_count": 34
        }
      ]
    },
    {
      "cell_type": "code",
      "metadata": {
        "id": "_nH3KZR3VRUG"
      },
      "source": [
        "#torch.max, torch.min"
      ],
      "execution_count": 35,
      "outputs": []
    },
    {
      "cell_type": "code",
      "metadata": {
        "colab": {
          "base_uri": "https://localhost:8080/"
        },
        "id": "3EvjDK5dVWZi",
        "outputId": "a92c8c2a-7901-45fe-aec5-59f3546af614"
      },
      "source": [
        "# Concatenate two tensors\n",
        "torch.cat([my_tensor, my_tensor], dim=1)"
      ],
      "execution_count": 36,
      "outputs": [
        {
          "output_type": "execute_result",
          "data": {
            "text/plain": [
              "tensor([[0.5396, 0.1249, 0.5502, 0.7076, 0.5396, 0.1249, 0.5502, 0.7076],\n",
              "        [0.8670, 0.9282, 0.1736, 0.4721, 0.8670, 0.9282, 0.1736, 0.4721],\n",
              "        [0.7755, 0.4231, 0.2287, 0.4352, 0.7755, 0.4231, 0.2287, 0.4352]],\n",
              "       device='cuda:0')"
            ]
          },
          "metadata": {
            "tags": []
          },
          "execution_count": 36
        }
      ]
    },
    {
      "cell_type": "code",
      "metadata": {
        "colab": {
          "base_uri": "https://localhost:8080/"
        },
        "id": "qX4UoC00Vj5Y",
        "outputId": "fca1c61e-2361-4fca-e14c-563cd80f713e"
      },
      "source": [
        "# Apply softmax function to this tensor\n",
        "torch.nn.functional.softmax(my_tensor, dim=0)"
      ],
      "execution_count": 37,
      "outputs": [
        {
          "output_type": "execute_result",
          "data": {
            "text/plain": [
              "tensor([[0.2737, 0.2183, 0.4147, 0.3919],\n",
              "        [0.3797, 0.4875, 0.2846, 0.3097],\n",
              "        [0.3465, 0.2942, 0.3007, 0.2984]], device='cuda:0')"
            ]
          },
          "metadata": {
            "tags": []
          },
          "execution_count": 37
        }
      ]
    },
    {
      "cell_type": "code",
      "metadata": {
        "colab": {
          "base_uri": "https://localhost:8080/"
        },
        "id": "t5SLEP3BVp8V",
        "outputId": "4512d4aa-18e6-402d-b721-3c9a66823fd0"
      },
      "source": [
        "# Check shape of tensor\n",
        "my_tensor.shape"
      ],
      "execution_count": 38,
      "outputs": [
        {
          "output_type": "execute_result",
          "data": {
            "text/plain": [
              "torch.Size([3, 4])"
            ]
          },
          "metadata": {
            "tags": []
          },
          "execution_count": 38
        }
      ]
    },
    {
      "cell_type": "code",
      "metadata": {
        "colab": {
          "base_uri": "https://localhost:8080/"
        },
        "id": "B1OUsRomVtRS",
        "outputId": "f27a792a-6702-42d1-8bb3-4f8650609502"
      },
      "source": [
        "my_tensor.size()"
      ],
      "execution_count": 39,
      "outputs": [
        {
          "output_type": "execute_result",
          "data": {
            "text/plain": [
              "torch.Size([3, 4])"
            ]
          },
          "metadata": {
            "tags": []
          },
          "execution_count": 39
        }
      ]
    },
    {
      "cell_type": "code",
      "metadata": {
        "colab": {
          "base_uri": "https://localhost:8080/"
        },
        "id": "mnpuPsqDVvSg",
        "outputId": "a9ed6871-8e24-413a-e5e4-6e4bca36637a"
      },
      "source": [
        "# In case of images - batch_size,no. of channels., height and width \n",
        "torch.rand(10,3,128,128)"
      ],
      "execution_count": 40,
      "outputs": [
        {
          "output_type": "execute_result",
          "data": {
            "text/plain": [
              "tensor([[[[4.6857e-01, 1.8513e-01, 5.0626e-01,  ..., 3.0306e-01,\n",
              "           7.7199e-01, 2.6273e-01],\n",
              "          [5.8362e-01, 9.9790e-01, 5.1723e-02,  ..., 2.6674e-01,\n",
              "           6.3302e-01, 8.9822e-01],\n",
              "          [6.2277e-01, 3.4341e-01, 3.7952e-01,  ..., 1.4786e-01,\n",
              "           1.2929e-01, 3.9379e-01],\n",
              "          ...,\n",
              "          [4.2419e-01, 8.7479e-01, 7.8317e-01,  ..., 4.3435e-01,\n",
              "           2.2437e-02, 6.6827e-01],\n",
              "          [4.9245e-01, 8.3815e-01, 9.9656e-02,  ..., 8.8297e-01,\n",
              "           3.7486e-01, 3.6218e-01],\n",
              "          [2.1002e-01, 1.2146e-01, 4.0676e-01,  ..., 1.1137e-01,\n",
              "           7.9917e-01, 1.8700e-01]],\n",
              "\n",
              "         [[9.6915e-01, 5.0923e-01, 7.1679e-01,  ..., 9.4559e-01,\n",
              "           4.0547e-02, 5.3626e-01],\n",
              "          [1.9779e-01, 8.0904e-02, 7.4385e-01,  ..., 8.1185e-02,\n",
              "           9.0534e-01, 1.2542e-01],\n",
              "          [9.1139e-01, 8.2960e-01, 8.4164e-01,  ..., 9.6508e-02,\n",
              "           5.7058e-01, 2.3066e-01],\n",
              "          ...,\n",
              "          [4.2503e-01, 1.2604e-01, 6.0517e-01,  ..., 3.4033e-01,\n",
              "           3.6712e-02, 2.5017e-01],\n",
              "          [2.1190e-01, 4.0405e-01, 9.1766e-01,  ..., 7.5844e-01,\n",
              "           9.0203e-01, 1.3005e-01],\n",
              "          [6.6829e-01, 6.3015e-01, 1.1296e-01,  ..., 6.9918e-01,\n",
              "           1.8330e-01, 4.8540e-01]],\n",
              "\n",
              "         [[8.5639e-01, 6.6840e-01, 9.6754e-01,  ..., 3.4301e-01,\n",
              "           4.1475e-01, 4.4856e-01],\n",
              "          [5.4045e-01, 6.4485e-02, 7.4222e-01,  ..., 5.7039e-01,\n",
              "           1.1012e-01, 4.8965e-01],\n",
              "          [1.4839e-01, 9.0276e-01, 6.8320e-01,  ..., 7.9901e-01,\n",
              "           7.0721e-01, 8.9298e-01],\n",
              "          ...,\n",
              "          [5.2114e-01, 8.9321e-01, 9.7522e-01,  ..., 2.3356e-01,\n",
              "           3.6189e-01, 5.1828e-01],\n",
              "          [5.6436e-01, 2.0579e-01, 5.7035e-01,  ..., 1.7874e-01,\n",
              "           3.1559e-01, 5.2941e-01],\n",
              "          [7.9297e-01, 5.0987e-01, 8.8325e-01,  ..., 2.8433e-01,\n",
              "           5.9230e-02, 9.2318e-01]]],\n",
              "\n",
              "\n",
              "        [[[3.9683e-01, 3.4107e-01, 3.9218e-01,  ..., 4.8841e-01,\n",
              "           7.3595e-01, 4.9018e-01],\n",
              "          [4.9135e-01, 6.4224e-01, 3.4523e-01,  ..., 4.1599e-01,\n",
              "           2.1023e-01, 2.6028e-01],\n",
              "          [4.3772e-01, 3.6673e-01, 7.1227e-01,  ..., 6.3978e-01,\n",
              "           7.8059e-01, 7.6241e-02],\n",
              "          ...,\n",
              "          [7.3817e-01, 7.8303e-01, 8.1962e-01,  ..., 9.3923e-01,\n",
              "           1.2721e-01, 6.5729e-01],\n",
              "          [8.6058e-01, 5.7018e-01, 4.8833e-01,  ..., 7.5582e-01,\n",
              "           8.7028e-01, 5.6241e-01],\n",
              "          [8.1069e-01, 6.8819e-01, 5.9499e-01,  ..., 9.5790e-01,\n",
              "           9.5835e-01, 4.7024e-01]],\n",
              "\n",
              "         [[4.3651e-01, 7.4922e-01, 5.9633e-01,  ..., 2.3979e-01,\n",
              "           3.5503e-02, 3.4255e-01],\n",
              "          [7.3269e-01, 1.4728e-01, 2.1340e-01,  ..., 9.7732e-01,\n",
              "           4.0516e-01, 1.3930e-01],\n",
              "          [1.1853e-01, 4.6403e-01, 7.8078e-01,  ..., 6.3493e-01,\n",
              "           9.3436e-01, 9.5986e-02],\n",
              "          ...,\n",
              "          [2.7993e-01, 7.8280e-01, 1.4750e-01,  ..., 9.2563e-01,\n",
              "           2.9643e-01, 8.4356e-01],\n",
              "          [7.9983e-01, 9.9638e-01, 5.5052e-01,  ..., 9.6608e-01,\n",
              "           6.5318e-01, 1.2796e-01],\n",
              "          [3.8482e-01, 7.3786e-01, 6.0871e-01,  ..., 7.3731e-01,\n",
              "           4.2136e-01, 2.8914e-01]],\n",
              "\n",
              "         [[8.3700e-01, 2.9303e-01, 6.0885e-01,  ..., 4.9294e-01,\n",
              "           7.0675e-01, 4.1091e-01],\n",
              "          [9.9145e-01, 7.2923e-01, 2.3358e-01,  ..., 5.4043e-01,\n",
              "           8.1714e-01, 5.6478e-01],\n",
              "          [8.6406e-01, 7.1127e-01, 6.4335e-01,  ..., 6.2103e-01,\n",
              "           8.6438e-01, 4.0945e-03],\n",
              "          ...,\n",
              "          [7.7142e-01, 3.1019e-01, 4.4489e-01,  ..., 9.5672e-01,\n",
              "           5.1943e-01, 9.1398e-01],\n",
              "          [3.4892e-02, 6.2010e-01, 8.9325e-01,  ..., 8.9743e-01,\n",
              "           2.4694e-01, 7.7782e-01],\n",
              "          [6.5766e-01, 5.2769e-01, 8.7948e-01,  ..., 6.2455e-01,\n",
              "           2.7571e-01, 5.5735e-01]]],\n",
              "\n",
              "\n",
              "        [[[2.8706e-01, 8.1995e-01, 7.6223e-01,  ..., 9.4712e-01,\n",
              "           5.2970e-01, 2.2409e-01],\n",
              "          [9.8008e-01, 2.1099e-01, 8.8954e-01,  ..., 1.0911e-01,\n",
              "           5.1633e-01, 1.6324e-01],\n",
              "          [2.1666e-01, 5.8780e-01, 3.7924e-01,  ..., 2.0504e-01,\n",
              "           7.1261e-02, 1.9909e-01],\n",
              "          ...,\n",
              "          [3.5034e-01, 7.5298e-02, 1.6396e-01,  ..., 8.3790e-01,\n",
              "           4.9679e-01, 7.1962e-01],\n",
              "          [4.9003e-01, 5.3675e-01, 9.8475e-01,  ..., 7.5784e-01,\n",
              "           3.0864e-03, 6.7136e-01],\n",
              "          [4.5089e-02, 9.2644e-02, 7.1565e-01,  ..., 2.5752e-01,\n",
              "           8.6226e-01, 3.5267e-01]],\n",
              "\n",
              "         [[2.3161e-01, 8.5958e-01, 1.1123e-01,  ..., 5.1608e-01,\n",
              "           5.7259e-01, 6.2110e-01],\n",
              "          [5.4474e-01, 4.7963e-02, 3.1415e-01,  ..., 4.8252e-01,\n",
              "           7.9364e-01, 9.1133e-01],\n",
              "          [3.1763e-01, 9.9257e-01, 2.3667e-01,  ..., 3.5727e-01,\n",
              "           4.7748e-02, 3.9629e-01],\n",
              "          ...,\n",
              "          [5.0789e-01, 4.3396e-01, 5.3420e-01,  ..., 1.4358e-01,\n",
              "           3.5280e-01, 2.7247e-01],\n",
              "          [2.1201e-01, 5.7518e-01, 4.5019e-01,  ..., 8.4880e-01,\n",
              "           1.1829e-01, 7.3844e-01],\n",
              "          [2.6753e-01, 1.8608e-01, 4.3197e-01,  ..., 7.0738e-01,\n",
              "           9.9183e-01, 8.3383e-01]],\n",
              "\n",
              "         [[9.8946e-01, 3.8150e-01, 7.3583e-01,  ..., 7.2764e-02,\n",
              "           8.8899e-01, 9.2060e-01],\n",
              "          [6.3528e-01, 2.3977e-02, 1.3111e-01,  ..., 3.6374e-01,\n",
              "           3.7944e-01, 8.0387e-01],\n",
              "          [6.1392e-01, 8.5468e-01, 9.4929e-01,  ..., 8.9066e-01,\n",
              "           9.5566e-01, 1.5091e-01],\n",
              "          ...,\n",
              "          [6.4156e-01, 7.8375e-01, 8.6875e-01,  ..., 6.9934e-01,\n",
              "           3.0904e-01, 6.1326e-01],\n",
              "          [3.7286e-01, 9.6106e-01, 5.3705e-01,  ..., 9.8618e-01,\n",
              "           7.3853e-01, 8.2727e-01],\n",
              "          [6.1982e-02, 1.9034e-01, 4.3105e-01,  ..., 1.1888e-01,\n",
              "           6.1094e-01, 6.7421e-01]]],\n",
              "\n",
              "\n",
              "        ...,\n",
              "\n",
              "\n",
              "        [[[4.3306e-01, 5.2355e-01, 8.4646e-01,  ..., 5.1826e-01,\n",
              "           9.5364e-01, 7.4202e-04],\n",
              "          [8.2656e-02, 2.1277e-01, 8.2111e-01,  ..., 3.4959e-01,\n",
              "           8.6925e-01, 5.0949e-02],\n",
              "          [2.3832e-01, 1.8175e-01, 2.2128e-01,  ..., 4.8804e-01,\n",
              "           8.6536e-01, 7.5975e-01],\n",
              "          ...,\n",
              "          [8.4152e-01, 9.7650e-01, 2.3223e-01,  ..., 4.8612e-01,\n",
              "           7.8747e-01, 4.4608e-01],\n",
              "          [6.6248e-01, 6.9630e-01, 9.1443e-02,  ..., 5.7199e-01,\n",
              "           9.8214e-01, 9.7022e-01],\n",
              "          [6.3007e-01, 2.0990e-01, 5.4638e-01,  ..., 6.1754e-01,\n",
              "           2.7659e-01, 3.1684e-01]],\n",
              "\n",
              "         [[3.1425e-01, 8.2691e-01, 9.2753e-01,  ..., 2.5653e-01,\n",
              "           7.6940e-01, 3.3791e-01],\n",
              "          [9.5213e-01, 5.7512e-01, 9.3871e-02,  ..., 6.0933e-01,\n",
              "           7.1722e-01, 9.3073e-02],\n",
              "          [9.2774e-01, 8.6377e-01, 6.1286e-02,  ..., 7.4194e-01,\n",
              "           6.4126e-02, 2.5212e-01],\n",
              "          ...,\n",
              "          [1.2724e-01, 9.2025e-03, 4.1618e-01,  ..., 8.7336e-01,\n",
              "           7.6649e-01, 2.3947e-01],\n",
              "          [9.4568e-01, 4.8015e-01, 3.6112e-01,  ..., 1.9947e-02,\n",
              "           6.6072e-01, 1.8699e-01],\n",
              "          [8.8078e-01, 3.3895e-02, 4.9249e-01,  ..., 3.2458e-01,\n",
              "           4.9741e-01, 9.7453e-01]],\n",
              "\n",
              "         [[4.1801e-01, 6.4216e-03, 9.9122e-01,  ..., 1.1281e-01,\n",
              "           2.2439e-01, 3.2426e-01],\n",
              "          [7.3739e-01, 8.0236e-01, 4.2559e-01,  ..., 6.8915e-01,\n",
              "           7.3729e-01, 9.7329e-01],\n",
              "          [8.7490e-01, 4.7506e-01, 1.6482e-01,  ..., 1.7129e-01,\n",
              "           6.5583e-01, 4.9871e-02],\n",
              "          ...,\n",
              "          [6.3364e-01, 6.7117e-01, 7.3951e-01,  ..., 5.3020e-01,\n",
              "           3.8328e-02, 5.0887e-01],\n",
              "          [6.0688e-01, 2.7853e-01, 9.2450e-01,  ..., 6.3451e-01,\n",
              "           7.2011e-02, 5.5634e-01],\n",
              "          [7.2266e-01, 5.0006e-01, 7.6758e-01,  ..., 2.7694e-03,\n",
              "           2.0117e-01, 9.7781e-01]]],\n",
              "\n",
              "\n",
              "        [[[6.7092e-02, 3.2403e-02, 3.1002e-01,  ..., 1.5952e-01,\n",
              "           9.1563e-01, 7.1900e-01],\n",
              "          [4.8700e-01, 8.9587e-01, 6.5646e-01,  ..., 7.0180e-01,\n",
              "           4.0169e-01, 8.7526e-01],\n",
              "          [5.8880e-01, 1.9448e-01, 9.0270e-02,  ..., 1.7962e-02,\n",
              "           5.1448e-01, 9.5207e-01],\n",
              "          ...,\n",
              "          [5.1055e-01, 3.1220e-01, 9.8807e-01,  ..., 9.7632e-01,\n",
              "           4.0270e-02, 9.2022e-01],\n",
              "          [3.9752e-01, 2.9803e-01, 1.9762e-01,  ..., 9.0665e-02,\n",
              "           1.9900e-01, 1.1652e-01],\n",
              "          [1.5350e-02, 4.1641e-02, 2.2129e-02,  ..., 1.2752e-01,\n",
              "           3.5129e-01, 1.8886e-01]],\n",
              "\n",
              "         [[2.4385e-01, 9.2138e-01, 5.5507e-01,  ..., 9.1480e-01,\n",
              "           8.4945e-01, 9.4002e-01],\n",
              "          [4.5542e-01, 5.2205e-01, 6.3245e-01,  ..., 3.4203e-01,\n",
              "           8.1992e-01, 3.0520e-01],\n",
              "          [7.0017e-01, 7.0890e-01, 6.2863e-02,  ..., 3.6613e-03,\n",
              "           2.5659e-01, 4.5052e-01],\n",
              "          ...,\n",
              "          [5.2204e-02, 9.9369e-01, 3.6797e-01,  ..., 2.2870e-01,\n",
              "           2.7316e-01, 2.1810e-01],\n",
              "          [1.9579e-01, 2.3843e-01, 5.4242e-01,  ..., 4.4750e-01,\n",
              "           4.1845e-01, 2.3879e-01],\n",
              "          [1.4681e-01, 4.3517e-01, 3.0518e-01,  ..., 2.0514e-01,\n",
              "           7.2482e-01, 8.8563e-01]],\n",
              "\n",
              "         [[2.7479e-01, 6.2186e-01, 5.2183e-01,  ..., 3.1863e-01,\n",
              "           4.9396e-01, 7.8070e-01],\n",
              "          [6.5819e-01, 1.5762e-01, 6.4240e-01,  ..., 2.4787e-01,\n",
              "           2.2062e-01, 8.1286e-01],\n",
              "          [4.7089e-01, 3.7505e-01, 8.1779e-01,  ..., 1.6502e-01,\n",
              "           4.9478e-01, 8.7655e-01],\n",
              "          ...,\n",
              "          [4.6637e-01, 1.6460e-01, 2.0736e-02,  ..., 4.5393e-01,\n",
              "           6.3219e-01, 9.0079e-02],\n",
              "          [6.5261e-01, 1.9774e-01, 4.1142e-01,  ..., 2.0133e-01,\n",
              "           1.1364e-01, 3.9311e-01],\n",
              "          [5.4700e-01, 9.5984e-01, 2.7623e-01,  ..., 8.1333e-01,\n",
              "           7.8388e-01, 6.9324e-03]]],\n",
              "\n",
              "\n",
              "        [[[2.3936e-01, 9.5692e-01, 4.1996e-01,  ..., 7.3194e-01,\n",
              "           5.5011e-01, 8.1549e-01],\n",
              "          [5.9356e-01, 9.7992e-01, 9.3340e-01,  ..., 4.7744e-01,\n",
              "           2.3824e-01, 5.3912e-01],\n",
              "          [6.6233e-01, 9.4805e-01, 5.4369e-01,  ..., 3.5969e-01,\n",
              "           8.2824e-01, 6.5844e-01],\n",
              "          ...,\n",
              "          [3.2160e-01, 5.2085e-01, 9.3434e-01,  ..., 4.5831e-01,\n",
              "           2.7551e-01, 8.0851e-01],\n",
              "          [2.6313e-01, 5.0764e-01, 6.7873e-01,  ..., 5.7753e-01,\n",
              "           1.1058e-03, 1.7000e-01],\n",
              "          [5.9653e-01, 3.5222e-01, 7.3241e-01,  ..., 2.4113e-01,\n",
              "           2.3561e-01, 3.4907e-01]],\n",
              "\n",
              "         [[6.2002e-01, 6.2524e-01, 8.2376e-02,  ..., 1.3261e-01,\n",
              "           9.7977e-01, 3.4366e-01],\n",
              "          [8.2000e-01, 5.0626e-01, 4.0395e-01,  ..., 2.3304e-01,\n",
              "           6.2424e-01, 7.9995e-01],\n",
              "          [6.9558e-02, 1.6375e-01, 5.0602e-01,  ..., 9.3797e-01,\n",
              "           7.5249e-01, 4.3455e-01],\n",
              "          ...,\n",
              "          [4.5392e-01, 1.0590e-01, 4.5658e-02,  ..., 6.6787e-01,\n",
              "           9.4955e-01, 2.3170e-01],\n",
              "          [5.3559e-01, 1.8747e-01, 6.0033e-01,  ..., 7.3030e-01,\n",
              "           8.7598e-01, 6.5819e-01],\n",
              "          [2.8907e-01, 6.4857e-02, 9.8468e-01,  ..., 6.7034e-01,\n",
              "           2.4442e-01, 2.1389e-01]],\n",
              "\n",
              "         [[7.8554e-01, 7.6057e-01, 8.6715e-01,  ..., 9.8838e-01,\n",
              "           6.9210e-01, 2.4527e-01],\n",
              "          [9.6576e-01, 5.7211e-01, 1.9358e-01,  ..., 9.3726e-01,\n",
              "           6.4400e-01, 5.7905e-01],\n",
              "          [1.8098e-01, 7.7115e-01, 4.5748e-01,  ..., 7.0835e-01,\n",
              "           4.5033e-01, 4.4309e-01],\n",
              "          ...,\n",
              "          [3.7613e-01, 2.6777e-01, 7.4697e-01,  ..., 8.5444e-01,\n",
              "           1.0493e-01, 4.9962e-01],\n",
              "          [9.3138e-01, 2.0155e-01, 7.1680e-01,  ..., 2.9929e-01,\n",
              "           5.2194e-02, 6.8211e-01],\n",
              "          [3.2268e-02, 1.6604e-01, 6.8913e-01,  ..., 1.5605e-02,\n",
              "           6.7557e-01, 1.6083e-01]]]])"
            ]
          },
          "metadata": {
            "tags": []
          },
          "execution_count": 40
        }
      ]
    },
    {
      "cell_type": "code",
      "metadata": {
        "colab": {
          "base_uri": "https://localhost:8080/"
        },
        "id": "SLRHNBZbWZmp",
        "outputId": "23bb2e17-7d7e-43f8-a647-bf8d4ca5c344"
      },
      "source": [
        "# Clip function - clip all values below min to min and above max to max\n",
        "# tensor.clip(min, max)\n",
        "my_tensor.clip(0.2, 0.8)"
      ],
      "execution_count": 45,
      "outputs": [
        {
          "output_type": "execute_result",
          "data": {
            "text/plain": [
              "tensor([[0.5396, 0.2000, 0.5502, 0.7076],\n",
              "        [0.8000, 0.8000, 0.2000, 0.4721],\n",
              "        [0.7755, 0.4231, 0.2287, 0.4352]], device='cuda:0')"
            ]
          },
          "metadata": {
            "tags": []
          },
          "execution_count": 45
        }
      ]
    },
    {
      "cell_type": "code",
      "metadata": {
        "colab": {
          "base_uri": "https://localhost:8080/"
        },
        "id": "XgQq4MXTWe7x",
        "outputId": "46d0d9a6-5fb4-4271-a6d4-4e03cb8c768c"
      },
      "source": [
        "# Convert tensor to numpy array\n",
        "my_tensor.cpu().detach().numpy()"
      ],
      "execution_count": 42,
      "outputs": [
        {
          "output_type": "execute_result",
          "data": {
            "text/plain": [
              "array([[0.5396128 , 0.12494659, 0.55022776, 0.707585  ],\n",
              "       [0.8669936 , 0.9281953 , 0.17356008, 0.4720968 ],\n",
              "       [0.7754562 , 0.42307013, 0.22868574, 0.43518507]], dtype=float32)"
            ]
          },
          "metadata": {
            "tags": []
          },
          "execution_count": 42
        }
      ]
    },
    {
      "cell_type": "code",
      "metadata": {
        "id": "VDOnLVygWmYL"
      },
      "source": [
        ""
      ],
      "execution_count": null,
      "outputs": []
    }
  ]
}